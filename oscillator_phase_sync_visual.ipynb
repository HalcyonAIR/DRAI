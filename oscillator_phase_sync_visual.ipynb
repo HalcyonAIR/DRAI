# Oscillator Phase Synchronization Visual Demo (DRAI Core Concept)

# This notebook demonstrates the core principle of DRAI: "Neurons that oscillate together, wire together."

# Using a simple model of coupled oscillators, we visualize how initially uncoordinated phase signals begin to align over time, forming the basis for local learning through resonance.

import numpy as np
import matplotlib.pyplot as plt
from matplotlib.animation import FuncAnimation

# Oscillator count and parameters
N = 8
K = 0.6                 # Coupling strength
dt = 0.05
T = 30
steps = int(T / dt)

# Natural frequencies (slightly noisy)
omega = np.random.normal(1.0, 0.1, N)

# Initial random phases
theta = np.random.uniform(0, 2 * np.pi, N)

# Store history
theta_hist = np.zeros((steps, N))

# Kuramoto update function
def kuramoto_step(theta, omega, K):
    dtheta = omega + (K / N) * np.sum(np.sin(np.subtract.outer(theta, theta)), axis=1)
    return theta + dtheta * dt

# Simulation loop
for t in range(steps):
    theta = kuramoto_step(theta, omega, K)
    theta_hist[t] = theta % (2 * np.pi)

# Set up polar plot
fig = plt.figure(figsize=(6, 6))
ax = plt.subplot(111, polar=True)
points, = ax.plot([], [], 'o', markersize=10)

def update(frame):
    ax.clear()
    ax.set_title(f'Time: {frame * dt:.2f}s')
    ax.set_yticklabels([])
    angles = theta_hist[frame]
    points, = ax.plot(angles, np.ones_like(angles), 'o', markersize=12, color='steelblue')
    return points,

ani = FuncAnimation(fig, update, frames=steps, blit=True, interval=50)
plt.show()
